{
 "cells": [
  {
   "cell_type": "markdown",
   "id": "91314479",
   "metadata": {},
   "source": [
    "Cluster Analysis - Class 5"
   ]
  },
  {
   "cell_type": "code",
   "execution_count": null,
   "id": "277e440b",
   "metadata": {},
   "outputs": [],
   "source": [
    "link='https://github.com/rhsu4/542_Deliv1/raw/main/allDataFull_long.RDS'\n",
    "# a RDS file from the web needs:\n",
    "myFile=url(link)\n",
    "\n",
    "# reading in data:\n",
    "fromPy=readRDS(file = myFile)\n",
    "\n",
    "# reset indexes to R format:\n",
    "row.names(fromPy)=NULL\n",
    "\n",
    "# check data types\n",
    "str(fromPy)"
   ]
  }
 ],
 "metadata": {
  "kernelspec": {
   "display_name": "Python 3 (ipykernel)",
   "language": "python",
   "name": "python3"
  },
  "language_info": {
   "codemirror_mode": {
    "name": "ipython",
    "version": 3
   },
   "file_extension": ".py",
   "mimetype": "text/x-python",
   "name": "python",
   "nbconvert_exporter": "python",
   "pygments_lexer": "ipython3",
   "version": "3.9.7"
  }
 },
 "nbformat": 4,
 "nbformat_minor": 5
}
